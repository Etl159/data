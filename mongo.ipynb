{
 "cells": [
  {
   "cell_type": "raw",
   "id": "d2b2164a",
   "metadata": {},
   "source": [
    "mysql:\n",
    "workbench/jupyter notebook\n",
    "relational database\n",
    "structured data\n",
    "tables"
   ]
  },
  {
   "cell_type": "raw",
   "id": "0d9bed4a",
   "metadata": {},
   "source": [
    "MongoDB:\n",
    "compass/jupyter notebook\n",
    "non relational database, no sql database\n",
    "unstructured data\n",
    "json > dictionary > key : value"
   ]
  },
  {
   "cell_type": "code",
   "execution_count": null,
   "id": "878e7aef",
   "metadata": {},
   "outputs": [],
   "source": [
    "emp :\n",
    "    empid, empname,salary,loc  contact             add \n",
    "    1001.  rahul.   60000 pune  null\n",
    "    1002.  rohit.   50000 pune 8983720070\n",
    "    1003.  snehal.  40000 pune  no field\n",
    "    1004.  neha.   '30000'pune \n",
    "    1005   vaibhav. 80000 pune. mob no/email       gsgsersgf"
   ]
  },
  {
   "cell_type": "code",
   "execution_count": null,
   "id": "8d4a1373",
   "metadata": {},
   "outputs": [],
   "source": [
    "{contact:{'mobno:':value,'email':value}}"
   ]
  },
  {
   "cell_type": "code",
   "execution_count": null,
   "id": "a5db4438",
   "metadata": {},
   "outputs": [],
   "source": [
    "mysql      mongodb\n",
    "database   database\n",
    "table      collection\n",
    "rows       document\n",
    "columns    keys"
   ]
  },
  {
   "cell_type": "markdown",
   "id": "d51b77d1",
   "metadata": {},
   "source": [
    "### import libraries"
   ]
  },
  {
   "cell_type": "code",
   "execution_count": 2,
   "id": "ceb044bc",
   "metadata": {},
   "outputs": [
    {
     "name": "stdout",
     "output_type": "stream",
     "text": [
      "Collecting pymongo\n",
      "  Downloading pymongo-4.4.1-cp311-cp311-win_amd64.whl (408 kB)\n",
      "                                              0.0/408.2 kB ? eta -:--:--\n",
      "     ---                                      30.7/408.2 kB ? eta -:--:--\n",
      "     ---                                      30.7/408.2 kB ? eta -:--:--\n",
      "     ---                                      30.7/408.2 kB ? eta -:--:--\n",
      "     ---                                   41.0/408.2 kB 196.9 kB/s eta 0:00:02\n",
      "     ---                                   41.0/408.2 kB 196.9 kB/s eta 0:00:02\n",
      "     ---                                   41.0/408.2 kB 196.9 kB/s eta 0:00:02\n",
      "     ---                                   41.0/408.2 kB 196.9 kB/s eta 0:00:02\n",
      "     ---                                   41.0/408.2 kB 196.9 kB/s eta 0:00:02\n",
      "     ---                                   41.0/408.2 kB 196.9 kB/s eta 0:00:02\n",
      "     ---                                   41.0/408.2 kB 196.9 kB/s eta 0:00:02\n",
      "     ---                                   41.0/408.2 kB 196.9 kB/s eta 0:00:02\n",
      "     ---                                   41.0/408.2 kB 196.9 kB/s eta 0:00:02\n",
      "     ---                                   41.0/408.2 kB 196.9 kB/s eta 0:00:02\n",
      "     -----                                  61.4/408.2 kB 81.9 kB/s eta 0:00:05\n",
      "     ------                                 71.7/408.2 kB 91.4 kB/s eta 0:00:04\n",
      "     ----------                           122.9/408.2 kB 153.5 kB/s eta 0:00:02\n",
      "     ------------                         143.4/408.2 kB 170.4 kB/s eta 0:00:02\n",
      "     ------------                         143.4/408.2 kB 170.4 kB/s eta 0:00:02\n",
      "     --------------------                 235.5/408.2 kB 257.5 kB/s eta 0:00:01\n",
      "     ----------------------               256.0/408.2 kB 266.6 kB/s eta 0:00:01\n",
      "     ---------------------------          307.2/408.2 kB 306.5 kB/s eta 0:00:01\n",
      "     ---------------------------          307.2/408.2 kB 306.5 kB/s eta 0:00:01\n",
      "     ---------------------------          307.2/408.2 kB 306.5 kB/s eta 0:00:01\n",
      "     -----------------------------        337.9/408.2 kB 295.5 kB/s eta 0:00:01\n",
      "     -----------------------------------  399.4/408.2 kB 336.6 kB/s eta 0:00:01\n",
      "     ------------------------------------ 408.2/408.2 kB 330.8 kB/s eta 0:00:00\n",
      "Collecting dnspython<3.0.0,>=1.16.0 (from pymongo)\n",
      "  Downloading dnspython-2.4.1-py3-none-any.whl (300 kB)\n",
      "                                              0.0/300.3 kB ? eta -:--:--\n",
      "     ----------                              81.9/300.3 kB 1.5 MB/s eta 0:00:01\n",
      "     ---------------                        122.9/300.3 kB 1.8 MB/s eta 0:00:01\n",
      "     ----------------------                 174.1/300.3 kB 1.5 MB/s eta 0:00:01\n",
      "     --------------------------------       256.0/300.3 kB 1.4 MB/s eta 0:00:01\n",
      "     -------------------------------------  297.0/300.3 kB 1.3 MB/s eta 0:00:01\n",
      "     -------------------------------------- 300.3/300.3 kB 1.2 MB/s eta 0:00:00\n",
      "Installing collected packages: dnspython, pymongo\n",
      "Successfully installed dnspython-2.4.1 pymongo-4.4.1\n",
      "Note: you may need to restart the kernel to use updated packages.\n"
     ]
    }
   ],
   "source": [
    "pip install pymongo"
   ]
  },
  {
   "cell_type": "code",
   "execution_count": 3,
   "id": "ffa17c7e",
   "metadata": {},
   "outputs": [],
   "source": [
    "import pymongo\n",
    "import pandas as pd"
   ]
  },
  {
   "cell_type": "markdown",
   "id": "7afd177d",
   "metadata": {},
   "source": [
    "### create connection\n",
    "pymongo.MongoClient  = Function to create a conncetion \n",
    "27017 = default code for momgodb \n",
    "mongodb://localhost:27017"
   ]
  },
  {
   "cell_type": "code",
   "execution_count": 4,
   "id": "2acba7f7",
   "metadata": {},
   "outputs": [
    {
     "data": {
      "text/plain": [
       "MongoClient(host=['localhost:27017'], document_class=dict, tz_aware=False, connect=True)"
      ]
     },
     "execution_count": 4,
     "metadata": {},
     "output_type": "execute_result"
    }
   ],
   "source": [
    "client=pymongo.MongoClient('mongodb://localhost:27017')\n",
    "client"
   ]
  },
  {
   "cell_type": "markdown",
   "id": "bc88e223",
   "metadata": {},
   "source": [
    "### operations"
   ]
  },
  {
   "cell_type": "code",
   "execution_count": null,
   "id": "d6372358",
   "metadata": {},
   "outputs": [],
   "source": [
    "1. create database\n",
    "2. create collection\n",
    "3. insert document\n",
    "4. read data\n",
    "5. update\n",
    "6. delete"
   ]
  },
  {
   "cell_type": "code",
   "execution_count": null,
   "id": "187af994",
   "metadata": {},
   "outputs": [],
   "source": [
    "databases >> database >> collections >> documents >> key: value"
   ]
  },
  {
   "cell_type": "markdown",
   "id": "874201b0",
   "metadata": {},
   "source": [
    "### create database/ use db\n",
    "db = conncetion_name[\"database_name]"
   ]
  },
  {
   "cell_type": "code",
   "execution_count": 5,
   "id": "5bb83e20",
   "metadata": {},
   "outputs": [
    {
     "data": {
      "text/plain": [
       "Database(MongoClient(host=['localhost:27017'], document_class=dict, tz_aware=False, connect=True), 'stud_data')"
      ]
     },
     "execution_count": 5,
     "metadata": {},
     "output_type": "execute_result"
    }
   ],
   "source": [
    "db=client['stud_data']\n",
    "db"
   ]
  },
  {
   "cell_type": "code",
   "execution_count": null,
   "id": "ebadc5b2",
   "metadata": {},
   "outputs": [],
   "source": []
  },
  {
   "cell_type": "markdown",
   "id": "08289358",
   "metadata": {},
   "source": [
    "### create collection\n",
    "coll = database_name[\"collection_name]"
   ]
  },
  {
   "cell_type": "code",
   "execution_count": 6,
   "id": "423b036e",
   "metadata": {},
   "outputs": [
    {
     "data": {
      "text/plain": [
       "Collection(Database(MongoClient(host=['localhost:27017'], document_class=dict, tz_aware=False, connect=True), 'stud_data'), 'student')"
      ]
     },
     "execution_count": 6,
     "metadata": {},
     "output_type": "execute_result"
    }
   ],
   "source": [
    "coll=db['student']\n",
    "coll"
   ]
  },
  {
   "cell_type": "code",
   "execution_count": null,
   "id": "ce0c376b",
   "metadata": {},
   "outputs": [],
   "source": [
    "# to see the collection"
   ]
  },
  {
   "cell_type": "code",
   "execution_count": 7,
   "id": "3a2080fe",
   "metadata": {},
   "outputs": [
    {
     "data": {
      "text/plain": [
       "[]"
      ]
     },
     "execution_count": 7,
     "metadata": {},
     "output_type": "execute_result"
    }
   ],
   "source": [
    "db.list_collection_names()"
   ]
  },
  {
   "cell_type": "markdown",
   "id": "82081a2f",
   "metadata": {},
   "source": [
    "### insert document"
   ]
  },
  {
   "cell_type": "code",
   "execution_count": null,
   "id": "1e5d2293",
   "metadata": {},
   "outputs": [],
   "source": [
    "insert_one (): used to insert single document\n",
    "insert_many(): used to insert multiple documents"
   ]
  },
  {
   "cell_type": "markdown",
   "id": "a21ff70d",
   "metadata": {},
   "source": [
    "### insert_one()\n"
   ]
  },
  {
   "cell_type": "code",
   "execution_count": null,
   "id": "d1737a46",
   "metadata": {},
   "outputs": [],
   "source": [
    "collection_name.insert_one({key:value})"
   ]
  },
  {
   "cell_type": "code",
   "execution_count": 8,
   "id": "29196859",
   "metadata": {},
   "outputs": [
    {
     "data": {
      "text/plain": [
       "<pymongo.results.InsertOneResult at 0x1fceb637be0>"
      ]
     },
     "execution_count": 8,
     "metadata": {},
     "output_type": "execute_result"
    }
   ],
   "source": [
    "coll.insert_one({'rollno':101,'stud_name':'rahul','cgpa':9,'loc':'pune'})"
   ]
  },
  {
   "cell_type": "code",
   "execution_count": 9,
   "id": "69599488",
   "metadata": {},
   "outputs": [
    {
     "data": {
      "text/plain": [
       "['student']"
      ]
     },
     "execution_count": 9,
     "metadata": {},
     "output_type": "execute_result"
    }
   ],
   "source": [
    "db.list_collection_names()"
   ]
  },
  {
   "cell_type": "code",
   "execution_count": null,
   "id": "5b47a7b4",
   "metadata": {},
   "outputs": [],
   "source": []
  },
  {
   "cell_type": "code",
   "execution_count": 11,
   "id": "039b4439",
   "metadata": {},
   "outputs": [
    {
     "data": {
      "text/plain": [
       "<pymongo.results.InsertOneResult at 0x1fce76ed960>"
      ]
     },
     "execution_count": 11,
     "metadata": {},
     "output_type": "execute_result"
    }
   ],
   "source": [
    "coll.insert_one({'rollno':102,'stud_name':'rohit','cgpa':8,'loc':'pune','contact':8983720070})"
   ]
  },
  {
   "cell_type": "code",
   "execution_count": 12,
   "id": "347c8d7c",
   "metadata": {},
   "outputs": [
    {
     "data": {
      "text/plain": [
       "<pymongo.results.InsertOneResult at 0x1fce76ec160>"
      ]
     },
     "execution_count": 12,
     "metadata": {},
     "output_type": "execute_result"
    }
   ],
   "source": [
    "coll.insert_one({'rollno':103,'stud_name':'rohit','cgpa':8,\n",
    "                 'loc':'pune','contact':{'mobno':8983720070,'email':'rohit@gmail.com'}})"
   ]
  },
  {
   "cell_type": "markdown",
   "id": "2cee3ef2",
   "metadata": {},
   "source": [
    "### insert_many()"
   ]
  },
  {
   "cell_type": "code",
   "execution_count": null,
   "id": "f468bc19",
   "metadata": {},
   "outputs": [],
   "source": [
    "collection_name.insert_many([{},{}])"
   ]
  },
  {
   "cell_type": "code",
   "execution_count": 13,
   "id": "df5d7acf",
   "metadata": {},
   "outputs": [
    {
     "data": {
      "text/plain": [
       "<pymongo.results.InsertManyResult at 0x103b8b1c0>"
      ]
     },
     "execution_count": 13,
     "metadata": {},
     "output_type": "execute_result"
    }
   ],
   "source": [
    "coll.insert_many([{'rollno':104,'stud_name':'snehal'},\n",
    "                {'rollno':105 ,'stud_name':'neha','loc':'pune'}])"
   ]
  },
  {
   "cell_type": "markdown",
   "id": "cf14f06f",
   "metadata": {},
   "source": [
    "### read data"
   ]
  },
  {
   "cell_type": "code",
   "execution_count": null,
   "id": "9b5c91a4",
   "metadata": {},
   "outputs": [],
   "source": [
    "find_one(): used to read single document\n",
    "find():     used to read multiple documents"
   ]
  },
  {
   "cell_type": "markdown",
   "id": "3228610d",
   "metadata": {},
   "source": [
    "### 1. find_one()"
   ]
  },
  {
   "cell_type": "code",
   "execution_count": null,
   "id": "522cd0e6",
   "metadata": {},
   "outputs": [],
   "source": [
    "collection_name.find_one({where condition},{select})\n",
    "without filter condition: returns the first document of the collection\n",
    "with filter condition:    return the first matched document"
   ]
  },
  {
   "cell_type": "code",
   "execution_count": 13,
   "id": "76c03b5c",
   "metadata": {},
   "outputs": [
    {
     "data": {
      "text/plain": [
       "{'_id': ObjectId('64c9e2bbfc550ce219e23e0c'),\n",
       " 'rollno': 101,\n",
       " 'stud_name': 'rahul',\n",
       " 'cgpa': 9,\n",
       " 'loc': 'pune'}"
      ]
     },
     "execution_count": 13,
     "metadata": {},
     "output_type": "execute_result"
    }
   ],
   "source": [
    "coll.find_one({})"
   ]
  },
  {
   "cell_type": "code",
   "execution_count": 14,
   "id": "099f3d1b",
   "metadata": {},
   "outputs": [
    {
     "data": {
      "text/plain": [
       "{'_id': ObjectId('64c9e356fc550ce219e23e0d'),\n",
       " 'rollno': 102,\n",
       " 'stud_name': 'rohit',\n",
       " 'cgpa': 8,\n",
       " 'loc': 'pune',\n",
       " 'contact': 8983720070}"
      ]
     },
     "execution_count": 14,
     "metadata": {},
     "output_type": "execute_result"
    }
   ],
   "source": [
    "coll.find_one({'stud_name':'rohit'})"
   ]
  },
  {
   "cell_type": "code",
   "execution_count": 15,
   "id": "7e2a0745",
   "metadata": {},
   "outputs": [
    {
     "data": {
      "text/plain": [
       "{'_id': ObjectId('64c9e356fc550ce219e23e0d'),\n",
       " 'rollno': 102,\n",
       " 'stud_name': 'rohit',\n",
       " 'cgpa': 8,\n",
       " 'loc': 'pune',\n",
       " 'contact': 8983720070}"
      ]
     },
     "execution_count": 15,
     "metadata": {},
     "output_type": "execute_result"
    }
   ],
   "source": [
    "coll.find_one({'cgpa':8})"
   ]
  },
  {
   "cell_type": "code",
   "execution_count": 16,
   "id": "205dd673",
   "metadata": {},
   "outputs": [
    {
     "data": {
      "text/plain": [
       "{'rollno': 102,\n",
       " 'stud_name': 'rohit',\n",
       " 'cgpa': 8,\n",
       " 'loc': 'pune',\n",
       " 'contact': 8983720070}"
      ]
     },
     "execution_count": 16,
     "metadata": {},
     "output_type": "execute_result"
    }
   ],
   "source": [
    "coll.find_one({'stud_name':'rohit'},{'_id':0})"
   ]
  },
  {
   "cell_type": "code",
   "execution_count": 18,
   "id": "ba049c3a",
   "metadata": {},
   "outputs": [
    {
     "data": {
      "text/plain": [
       "{'rollno': 102, 'stud_name': 'rohit', 'cgpa': 8, 'loc': 'pune'}"
      ]
     },
     "execution_count": 18,
     "metadata": {},
     "output_type": "execute_result"
    }
   ],
   "source": [
    "coll.find_one({'stud_name':'rohit'},{'_id':0,'contact':0})"
   ]
  },
  {
   "cell_type": "code",
   "execution_count": 22,
   "id": "aa5bb099",
   "metadata": {},
   "outputs": [
    {
     "data": {
      "text/plain": [
       "{'_id': ObjectId('639f327cb6d82455dfc279ca'), 'contact': 8983720070}"
      ]
     },
     "execution_count": 22,
     "metadata": {},
     "output_type": "execute_result"
    }
   ],
   "source": [
    "coll.find_one({'stud_name':'rohit'},{'contact':1})"
   ]
  },
  {
   "cell_type": "code",
   "execution_count": 54,
   "id": "87374611",
   "metadata": {},
   "outputs": [
    {
     "data": {
      "text/plain": [
       "{'_id': ObjectId('639f3e47b6d82455dfc27ac8'),\n",
       " 'rollno': 101,\n",
       " 'stud_name': 'rahul',\n",
       " 'cgpa': 9,\n",
       " 'loc': 'pune'}"
      ]
     },
     "execution_count": 54,
     "metadata": {},
     "output_type": "execute_result"
    }
   ],
   "source": [
    "coll.find_one({'rollno':101,'cgpa':9})"
   ]
  },
  {
   "cell_type": "code",
   "execution_count": 57,
   "id": "1ce5906b",
   "metadata": {},
   "outputs": [
    {
     "data": {
      "text/plain": [
       "{'_id': ObjectId('639f3e47b6d82455dfc27ac8'),\n",
       " 'rollno': 101,\n",
       " 'stud_name': 'rahul',\n",
       " 'cgpa': 9,\n",
       " 'loc': 'pune'}"
      ]
     },
     "execution_count": 57,
     "metadata": {},
     "output_type": "execute_result"
    }
   ],
   "source": [
    "coll.find_one({'$or':[{'rollno':101,'cgpa':9}]})"
   ]
  },
  {
   "cell_type": "code",
   "execution_count": 21,
   "id": "0213e08b",
   "metadata": {},
   "outputs": [
    {
     "data": {
      "text/plain": [
       "{'rollno': 102, 'stud_name': 'rohit', 'cgpa': 8, 'loc': 'pune'}"
      ]
     },
     "execution_count": 21,
     "metadata": {},
     "output_type": "execute_result"
    }
   ],
   "source": [
    "coll.find_one({'stud_name':'rohit'},{'_id':0,'contact':0})"
   ]
  },
  {
   "cell_type": "code",
   "execution_count": 23,
   "id": "609ddfbf",
   "metadata": {},
   "outputs": [
    {
     "data": {
      "text/plain": [
       "{'contact': 8983720070}"
      ]
     },
     "execution_count": 23,
     "metadata": {},
     "output_type": "execute_result"
    }
   ],
   "source": [
    "coll.find_one({'stud_name':'rohit'},{'_id':0,'contact':1})"
   ]
  },
  {
   "cell_type": "code",
   "execution_count": 25,
   "id": "eb268f24",
   "metadata": {},
   "outputs": [
    {
     "ename": "OperationFailure",
     "evalue": "Cannot do inclusion on field contact in exclusion projection, full error: {'ok': 0.0, 'errmsg': 'Cannot do inclusion on field contact in exclusion projection', 'code': 31253, 'codeName': 'Location31253'}",
     "output_type": "error",
     "traceback": [
      "\u001b[0;31m---------------------------------------------------------------------------\u001b[0m",
      "\u001b[0;31mOperationFailure\u001b[0m                          Traceback (most recent call last)",
      "Input \u001b[0;32mIn [25]\u001b[0m, in \u001b[0;36m<cell line: 1>\u001b[0;34m()\u001b[0m\n\u001b[0;32m----> 1\u001b[0m \u001b[43mcoll\u001b[49m\u001b[38;5;241;43m.\u001b[39;49m\u001b[43mfind_one\u001b[49m\u001b[43m(\u001b[49m\u001b[43m{\u001b[49m\u001b[38;5;124;43m'\u001b[39;49m\u001b[38;5;124;43mstud_name\u001b[39;49m\u001b[38;5;124;43m'\u001b[39;49m\u001b[43m:\u001b[49m\u001b[38;5;124;43m'\u001b[39;49m\u001b[38;5;124;43mrohit\u001b[39;49m\u001b[38;5;124;43m'\u001b[39;49m\u001b[43m}\u001b[49m\u001b[43m,\u001b[49m\u001b[43m{\u001b[49m\u001b[38;5;124;43m'\u001b[39;49m\u001b[38;5;124;43mroll_no\u001b[39;49m\u001b[38;5;124;43m'\u001b[39;49m\u001b[43m:\u001b[49m\u001b[38;5;241;43m0\u001b[39;49m\u001b[43m,\u001b[49m\u001b[38;5;124;43m'\u001b[39;49m\u001b[38;5;124;43mcontact\u001b[39;49m\u001b[38;5;124;43m'\u001b[39;49m\u001b[43m:\u001b[49m\u001b[38;5;241;43m1\u001b[39;49m\u001b[43m}\u001b[49m\u001b[43m)\u001b[49m\n",
      "File \u001b[0;32m/Library/Frameworks/Python.framework/Versions/3.10/lib/python3.10/site-packages/pymongo/collection.py:1419\u001b[0m, in \u001b[0;36mCollection.find_one\u001b[0;34m(self, filter, *args, **kwargs)\u001b[0m\n\u001b[1;32m   1417\u001b[0m     \u001b[38;5;28mfilter\u001b[39m \u001b[38;5;241m=\u001b[39m {\u001b[38;5;124m\"\u001b[39m\u001b[38;5;124m_id\u001b[39m\u001b[38;5;124m\"\u001b[39m: \u001b[38;5;28mfilter\u001b[39m}\n\u001b[1;32m   1418\u001b[0m cursor \u001b[38;5;241m=\u001b[39m \u001b[38;5;28mself\u001b[39m\u001b[38;5;241m.\u001b[39mfind(\u001b[38;5;28mfilter\u001b[39m, \u001b[38;5;241m*\u001b[39margs, \u001b[38;5;241m*\u001b[39m\u001b[38;5;241m*\u001b[39mkwargs)\n\u001b[0;32m-> 1419\u001b[0m \u001b[38;5;28;01mfor\u001b[39;00m result \u001b[38;5;129;01min\u001b[39;00m cursor\u001b[38;5;241m.\u001b[39mlimit(\u001b[38;5;241m-\u001b[39m\u001b[38;5;241m1\u001b[39m):\n\u001b[1;32m   1420\u001b[0m     \u001b[38;5;28;01mreturn\u001b[39;00m result\n\u001b[1;32m   1421\u001b[0m \u001b[38;5;28;01mreturn\u001b[39;00m \u001b[38;5;28;01mNone\u001b[39;00m\n",
      "File \u001b[0;32m/Library/Frameworks/Python.framework/Versions/3.10/lib/python3.10/site-packages/pymongo/cursor.py:1248\u001b[0m, in \u001b[0;36mCursor.next\u001b[0;34m(self)\u001b[0m\n\u001b[1;32m   1246\u001b[0m \u001b[38;5;28;01mif\u001b[39;00m \u001b[38;5;28mself\u001b[39m\u001b[38;5;241m.\u001b[39m__empty:\n\u001b[1;32m   1247\u001b[0m     \u001b[38;5;28;01mraise\u001b[39;00m \u001b[38;5;167;01mStopIteration\u001b[39;00m\n\u001b[0;32m-> 1248\u001b[0m \u001b[38;5;28;01mif\u001b[39;00m \u001b[38;5;28mlen\u001b[39m(\u001b[38;5;28mself\u001b[39m\u001b[38;5;241m.\u001b[39m__data) \u001b[38;5;129;01mor\u001b[39;00m \u001b[38;5;28;43mself\u001b[39;49m\u001b[38;5;241;43m.\u001b[39;49m\u001b[43m_refresh\u001b[49m\u001b[43m(\u001b[49m\u001b[43m)\u001b[49m:\n\u001b[1;32m   1249\u001b[0m     \u001b[38;5;28;01mreturn\u001b[39;00m \u001b[38;5;28mself\u001b[39m\u001b[38;5;241m.\u001b[39m__data\u001b[38;5;241m.\u001b[39mpopleft()\n\u001b[1;32m   1250\u001b[0m \u001b[38;5;28;01melse\u001b[39;00m:\n",
      "File \u001b[0;32m/Library/Frameworks/Python.framework/Versions/3.10/lib/python3.10/site-packages/pymongo/cursor.py:1165\u001b[0m, in \u001b[0;36mCursor._refresh\u001b[0;34m(self)\u001b[0m\n\u001b[1;32m   1143\u001b[0m         \u001b[38;5;28;01mraise\u001b[39;00m InvalidOperation(\n\u001b[1;32m   1144\u001b[0m             \u001b[38;5;124m\"\u001b[39m\u001b[38;5;124mPassing a \u001b[39m\u001b[38;5;124m'\u001b[39m\u001b[38;5;124mhint\u001b[39m\u001b[38;5;124m'\u001b[39m\u001b[38;5;124m is required when using the min/max query\u001b[39m\u001b[38;5;124m\"\u001b[39m\n\u001b[1;32m   1145\u001b[0m             \u001b[38;5;124m\"\u001b[39m\u001b[38;5;124m option to ensure the query utilizes the correct index\u001b[39m\u001b[38;5;124m\"\u001b[39m\n\u001b[1;32m   1146\u001b[0m         )\n\u001b[1;32m   1147\u001b[0m     q \u001b[38;5;241m=\u001b[39m \u001b[38;5;28mself\u001b[39m\u001b[38;5;241m.\u001b[39m_query_class(\n\u001b[1;32m   1148\u001b[0m         \u001b[38;5;28mself\u001b[39m\u001b[38;5;241m.\u001b[39m__query_flags,\n\u001b[1;32m   1149\u001b[0m         \u001b[38;5;28mself\u001b[39m\u001b[38;5;241m.\u001b[39m__collection\u001b[38;5;241m.\u001b[39mdatabase\u001b[38;5;241m.\u001b[39mname,\n\u001b[0;32m   (...)\u001b[0m\n\u001b[1;32m   1163\u001b[0m         \u001b[38;5;28mself\u001b[39m\u001b[38;5;241m.\u001b[39m__exhaust,\n\u001b[1;32m   1164\u001b[0m     )\n\u001b[0;32m-> 1165\u001b[0m     \u001b[38;5;28;43mself\u001b[39;49m\u001b[38;5;241;43m.\u001b[39;49m\u001b[43m__send_message\u001b[49m\u001b[43m(\u001b[49m\u001b[43mq\u001b[49m\u001b[43m)\u001b[49m\n\u001b[1;32m   1166\u001b[0m \u001b[38;5;28;01melif\u001b[39;00m \u001b[38;5;28mself\u001b[39m\u001b[38;5;241m.\u001b[39m__id:  \u001b[38;5;66;03m# Get More\u001b[39;00m\n\u001b[1;32m   1167\u001b[0m     \u001b[38;5;28;01mif\u001b[39;00m \u001b[38;5;28mself\u001b[39m\u001b[38;5;241m.\u001b[39m__limit:\n",
      "File \u001b[0;32m/Library/Frameworks/Python.framework/Versions/3.10/lib/python3.10/site-packages/pymongo/cursor.py:1052\u001b[0m, in \u001b[0;36mCursor.__send_message\u001b[0;34m(self, operation)\u001b[0m\n\u001b[1;32m   1049\u001b[0m     \u001b[38;5;28;01mraise\u001b[39;00m InvalidOperation(\u001b[38;5;124m\"\u001b[39m\u001b[38;5;124mexhaust cursors do not support auto encryption\u001b[39m\u001b[38;5;124m\"\u001b[39m)\n\u001b[1;32m   1051\u001b[0m \u001b[38;5;28;01mtry\u001b[39;00m:\n\u001b[0;32m-> 1052\u001b[0m     response \u001b[38;5;241m=\u001b[39m \u001b[43mclient\u001b[49m\u001b[38;5;241;43m.\u001b[39;49m\u001b[43m_run_operation\u001b[49m\u001b[43m(\u001b[49m\n\u001b[1;32m   1053\u001b[0m \u001b[43m        \u001b[49m\u001b[43moperation\u001b[49m\u001b[43m,\u001b[49m\u001b[43m \u001b[49m\u001b[38;5;28;43mself\u001b[39;49m\u001b[38;5;241;43m.\u001b[39;49m\u001b[43m_unpack_response\u001b[49m\u001b[43m,\u001b[49m\u001b[43m \u001b[49m\u001b[43maddress\u001b[49m\u001b[38;5;241;43m=\u001b[39;49m\u001b[38;5;28;43mself\u001b[39;49m\u001b[38;5;241;43m.\u001b[39;49m\u001b[43m__address\u001b[49m\n\u001b[1;32m   1054\u001b[0m \u001b[43m    \u001b[49m\u001b[43m)\u001b[49m\n\u001b[1;32m   1055\u001b[0m \u001b[38;5;28;01mexcept\u001b[39;00m OperationFailure \u001b[38;5;28;01mas\u001b[39;00m exc:\n\u001b[1;32m   1056\u001b[0m     \u001b[38;5;28;01mif\u001b[39;00m exc\u001b[38;5;241m.\u001b[39mcode \u001b[38;5;129;01min\u001b[39;00m _CURSOR_CLOSED_ERRORS \u001b[38;5;129;01mor\u001b[39;00m \u001b[38;5;28mself\u001b[39m\u001b[38;5;241m.\u001b[39m__exhaust:\n\u001b[1;32m   1057\u001b[0m         \u001b[38;5;66;03m# Don't send killCursors because the cursor is already closed.\u001b[39;00m\n",
      "File \u001b[0;32m/Library/Frameworks/Python.framework/Versions/3.10/lib/python3.10/site-packages/pymongo/mongo_client.py:1267\u001b[0m, in \u001b[0;36mMongoClient._run_operation\u001b[0;34m(self, operation, unpack_res, address)\u001b[0m\n\u001b[1;32m   1262\u001b[0m \u001b[38;5;28;01mdef\u001b[39;00m \u001b[38;5;21m_cmd\u001b[39m(session, server, sock_info, read_preference):\n\u001b[1;32m   1263\u001b[0m     \u001b[38;5;28;01mreturn\u001b[39;00m server\u001b[38;5;241m.\u001b[39mrun_operation(\n\u001b[1;32m   1264\u001b[0m         sock_info, operation, read_preference, \u001b[38;5;28mself\u001b[39m\u001b[38;5;241m.\u001b[39m_event_listeners, unpack_res\n\u001b[1;32m   1265\u001b[0m     )\n\u001b[0;32m-> 1267\u001b[0m \u001b[38;5;28;01mreturn\u001b[39;00m \u001b[38;5;28;43mself\u001b[39;49m\u001b[38;5;241;43m.\u001b[39;49m\u001b[43m_retryable_read\u001b[49m\u001b[43m(\u001b[49m\n\u001b[1;32m   1268\u001b[0m \u001b[43m    \u001b[49m\u001b[43m_cmd\u001b[49m\u001b[43m,\u001b[49m\n\u001b[1;32m   1269\u001b[0m \u001b[43m    \u001b[49m\u001b[43moperation\u001b[49m\u001b[38;5;241;43m.\u001b[39;49m\u001b[43mread_preference\u001b[49m\u001b[43m,\u001b[49m\n\u001b[1;32m   1270\u001b[0m \u001b[43m    \u001b[49m\u001b[43moperation\u001b[49m\u001b[38;5;241;43m.\u001b[39;49m\u001b[43msession\u001b[49m\u001b[43m,\u001b[49m\n\u001b[1;32m   1271\u001b[0m \u001b[43m    \u001b[49m\u001b[43maddress\u001b[49m\u001b[38;5;241;43m=\u001b[39;49m\u001b[43maddress\u001b[49m\u001b[43m,\u001b[49m\n\u001b[1;32m   1272\u001b[0m \u001b[43m    \u001b[49m\u001b[43mretryable\u001b[49m\u001b[38;5;241;43m=\u001b[39;49m\u001b[38;5;28;43misinstance\u001b[39;49m\u001b[43m(\u001b[49m\u001b[43moperation\u001b[49m\u001b[43m,\u001b[49m\u001b[43m \u001b[49m\u001b[43mmessage\u001b[49m\u001b[38;5;241;43m.\u001b[39;49m\u001b[43m_Query\u001b[49m\u001b[43m)\u001b[49m\u001b[43m,\u001b[49m\n\u001b[1;32m   1273\u001b[0m \u001b[43m\u001b[49m\u001b[43m)\u001b[49m\n",
      "File \u001b[0;32m/Library/Frameworks/Python.framework/Versions/3.10/lib/python3.10/site-packages/pymongo/mongo_client.py:1371\u001b[0m, in \u001b[0;36mMongoClient._retryable_read\u001b[0;34m(self, func, read_pref, session, address, retryable)\u001b[0m\n\u001b[1;32m   1369\u001b[0m             \u001b[38;5;28;01massert\u001b[39;00m last_error \u001b[38;5;129;01mis\u001b[39;00m \u001b[38;5;129;01mnot\u001b[39;00m \u001b[38;5;28;01mNone\u001b[39;00m\n\u001b[1;32m   1370\u001b[0m             \u001b[38;5;28;01mraise\u001b[39;00m last_error\n\u001b[0;32m-> 1371\u001b[0m         \u001b[38;5;28;01mreturn\u001b[39;00m \u001b[43mfunc\u001b[49m\u001b[43m(\u001b[49m\u001b[43msession\u001b[49m\u001b[43m,\u001b[49m\u001b[43m \u001b[49m\u001b[43mserver\u001b[49m\u001b[43m,\u001b[49m\u001b[43m \u001b[49m\u001b[43msock_info\u001b[49m\u001b[43m,\u001b[49m\u001b[43m \u001b[49m\u001b[43mread_pref\u001b[49m\u001b[43m)\u001b[49m\n\u001b[1;32m   1372\u001b[0m \u001b[38;5;28;01mexcept\u001b[39;00m ServerSelectionTimeoutError:\n\u001b[1;32m   1373\u001b[0m     \u001b[38;5;28;01mif\u001b[39;00m retrying:\n\u001b[1;32m   1374\u001b[0m         \u001b[38;5;66;03m# The application may think the write was never attempted\u001b[39;00m\n\u001b[1;32m   1375\u001b[0m         \u001b[38;5;66;03m# if we raise ServerSelectionTimeoutError on the retry\u001b[39;00m\n\u001b[1;32m   1376\u001b[0m         \u001b[38;5;66;03m# attempt. Raise the original exception instead.\u001b[39;00m\n",
      "File \u001b[0;32m/Library/Frameworks/Python.framework/Versions/3.10/lib/python3.10/site-packages/pymongo/mongo_client.py:1263\u001b[0m, in \u001b[0;36mMongoClient._run_operation.<locals>._cmd\u001b[0;34m(session, server, sock_info, read_preference)\u001b[0m\n\u001b[1;32m   1262\u001b[0m \u001b[38;5;28;01mdef\u001b[39;00m \u001b[38;5;21m_cmd\u001b[39m(session, server, sock_info, read_preference):\n\u001b[0;32m-> 1263\u001b[0m     \u001b[38;5;28;01mreturn\u001b[39;00m \u001b[43mserver\u001b[49m\u001b[38;5;241;43m.\u001b[39;49m\u001b[43mrun_operation\u001b[49m\u001b[43m(\u001b[49m\n\u001b[1;32m   1264\u001b[0m \u001b[43m        \u001b[49m\u001b[43msock_info\u001b[49m\u001b[43m,\u001b[49m\u001b[43m \u001b[49m\u001b[43moperation\u001b[49m\u001b[43m,\u001b[49m\u001b[43m \u001b[49m\u001b[43mread_preference\u001b[49m\u001b[43m,\u001b[49m\u001b[43m \u001b[49m\u001b[38;5;28;43mself\u001b[39;49m\u001b[38;5;241;43m.\u001b[39;49m\u001b[43m_event_listeners\u001b[49m\u001b[43m,\u001b[49m\u001b[43m \u001b[49m\u001b[43munpack_res\u001b[49m\n\u001b[1;32m   1265\u001b[0m \u001b[43m    \u001b[49m\u001b[43m)\u001b[49m\n",
      "File \u001b[0;32m/Library/Frameworks/Python.framework/Versions/3.10/lib/python3.10/site-packages/pymongo/server.py:134\u001b[0m, in \u001b[0;36mServer.run_operation\u001b[0;34m(self, sock_info, operation, read_preference, listeners, unpack_res)\u001b[0m\n\u001b[1;32m    132\u001b[0m         first \u001b[38;5;241m=\u001b[39m docs[\u001b[38;5;241m0\u001b[39m]\n\u001b[1;32m    133\u001b[0m         operation\u001b[38;5;241m.\u001b[39mclient\u001b[38;5;241m.\u001b[39m_process_response(first, operation\u001b[38;5;241m.\u001b[39msession)\n\u001b[0;32m--> 134\u001b[0m         \u001b[43m_check_command_response\u001b[49m\u001b[43m(\u001b[49m\u001b[43mfirst\u001b[49m\u001b[43m,\u001b[49m\u001b[43m \u001b[49m\u001b[43msock_info\u001b[49m\u001b[38;5;241;43m.\u001b[39;49m\u001b[43mmax_wire_version\u001b[49m\u001b[43m)\u001b[49m\n\u001b[1;32m    135\u001b[0m \u001b[38;5;28;01mexcept\u001b[39;00m \u001b[38;5;167;01mException\u001b[39;00m \u001b[38;5;28;01mas\u001b[39;00m exc:\n\u001b[1;32m    136\u001b[0m     \u001b[38;5;28;01mif\u001b[39;00m publish:\n",
      "File \u001b[0;32m/Library/Frameworks/Python.framework/Versions/3.10/lib/python3.10/site-packages/pymongo/helpers.py:180\u001b[0m, in \u001b[0;36m_check_command_response\u001b[0;34m(response, max_wire_version, allowable_errors, parse_write_concern_error)\u001b[0m\n\u001b[1;32m    177\u001b[0m \u001b[38;5;28;01melif\u001b[39;00m code \u001b[38;5;241m==\u001b[39m \u001b[38;5;241m43\u001b[39m:\n\u001b[1;32m    178\u001b[0m     \u001b[38;5;28;01mraise\u001b[39;00m CursorNotFound(errmsg, code, response, max_wire_version)\n\u001b[0;32m--> 180\u001b[0m \u001b[38;5;28;01mraise\u001b[39;00m OperationFailure(errmsg, code, response, max_wire_version)\n",
      "\u001b[0;31mOperationFailure\u001b[0m: Cannot do inclusion on field contact in exclusion projection, full error: {'ok': 0.0, 'errmsg': 'Cannot do inclusion on field contact in exclusion projection', 'code': 31253, 'codeName': 'Location31253'}"
     ]
    }
   ],
   "source": [
    "coll.find_one({'stud_name':'rohit'},{'roll_no':0,'contact':1})"
   ]
  },
  {
   "cell_type": "code",
   "execution_count": 26,
   "id": "09a8be17",
   "metadata": {},
   "outputs": [
    {
     "data": {
      "text/plain": [
       "{'_id': ObjectId('639f327cb6d82455dfc279ca'), 'contact': 8983720070}"
      ]
     },
     "execution_count": 26,
     "metadata": {},
     "output_type": "execute_result"
    }
   ],
   "source": [
    "coll.find_one({'stud_name':'rohit'},{'roll_no':1,'contact':1})"
   ]
  },
  {
   "cell_type": "code",
   "execution_count": null,
   "id": "8c2b8d5d",
   "metadata": {},
   "outputs": [],
   "source": [
    "20 keys : read 4 keys : specify 1 for these 4 keys\n",
    "20 keys : skip 4 keys : specify 0 for these 4 keys"
   ]
  },
  {
   "cell_type": "markdown",
   "id": "2944c71f",
   "metadata": {},
   "source": [
    "### find()"
   ]
  },
  {
   "cell_type": "markdown",
   "id": "2e80a309",
   "metadata": {},
   "source": [
    "used to return multiple documents"
   ]
  },
  {
   "cell_type": "code",
   "execution_count": null,
   "id": "58048406",
   "metadata": {},
   "outputs": [],
   "source": [
    "collection_name.find({where condition},{select})\n",
    "without filter condition: returns all documents of the collection\n",
    "with filter condition   : returns the all matched documents"
   ]
  },
  {
   "cell_type": "code",
   "execution_count": 28,
   "id": "1e4e3452",
   "metadata": {},
   "outputs": [
    {
     "data": {
      "text/plain": [
       "[{'rollno': 101, 'stud_name': 'rahul', 'cgpa': 9, 'loc': 'pune'},\n",
       " {'rollno': 102,\n",
       "  'stud_name': 'rohit',\n",
       "  'cgpa': 8,\n",
       "  'loc': 'pune',\n",
       "  'contact': 8983720070},\n",
       " {'rollno': 103,\n",
       "  'stud_name': 'rohit',\n",
       "  'cgpa': 8,\n",
       "  'loc': 'pune',\n",
       "  'contact': {'mobno': 8983720070, 'email': 'rohit@gmail.com'}},\n",
       " {'rollno': 104, 'stud_name': 'snehal'},\n",
       " {'rollno': 105, 'stud_name': 'neha', 'loc': 'pune'}]"
      ]
     },
     "execution_count": 28,
     "metadata": {},
     "output_type": "execute_result"
    }
   ],
   "source": [
    "data=coll.find({},{'_id':0})\n",
    "list(data)"
   ]
  },
  {
   "cell_type": "code",
   "execution_count": 29,
   "id": "69d32758",
   "metadata": {},
   "outputs": [
    {
     "data": {
      "text/plain": [
       "[{'rollno': 102,\n",
       "  'stud_name': 'rohit',\n",
       "  'cgpa': 8,\n",
       "  'loc': 'pune',\n",
       "  'contact': 8983720070},\n",
       " {'rollno': 103,\n",
       "  'stud_name': 'rohit',\n",
       "  'cgpa': 8,\n",
       "  'loc': 'pune',\n",
       "  'contact': {'mobno': 8983720070, 'email': 'rohit@gmail.com'}}]"
      ]
     },
     "execution_count": 29,
     "metadata": {},
     "output_type": "execute_result"
    }
   ],
   "source": [
    "data=coll.find({'stud_name':'rohit'},{'_id':0})\n",
    "list(data)"
   ]
  },
  {
   "cell_type": "markdown",
   "id": "b54e2af5",
   "metadata": {},
   "source": [
    "### update data"
   ]
  },
  {
   "cell_type": "code",
   "execution_count": null,
   "id": "8da49329",
   "metadata": {},
   "outputs": [],
   "source": [
    "update_one() : update a single document \n",
    "update_many(): update multiple documents"
   ]
  },
  {
   "cell_type": "markdown",
   "id": "b968b3d3",
   "metadata": {},
   "source": [
    "### update_one()"
   ]
  },
  {
   "cell_type": "code",
   "execution_count": null,
   "id": "cc3c5c21",
   "metadata": {},
   "outputs": [],
   "source": [
    "collection_name.update_one({filter condition},{'$set':{key:value}})\n",
    "without filter condition: update the first document of the collection\n",
    "with filter condition:    update the first matched document"
   ]
  },
  {
   "cell_type": "code",
   "execution_count": 17,
   "id": "66f44457",
   "metadata": {},
   "outputs": [
    {
     "data": {
      "text/plain": [
       "<pymongo.results.UpdateResult at 0x1fceb637b50>"
      ]
     },
     "execution_count": 17,
     "metadata": {},
     "output_type": "execute_result"
    }
   ],
   "source": [
    "coll.update_one({},{'$set':{'loc':'mumbai'}})"
   ]
  },
  {
   "cell_type": "code",
   "execution_count": 31,
   "id": "066b07c0",
   "metadata": {},
   "outputs": [
    {
     "data": {
      "text/plain": [
       "<pymongo.results.UpdateResult at 0x103bc1ff0>"
      ]
     },
     "execution_count": 31,
     "metadata": {},
     "output_type": "execute_result"
    }
   ],
   "source": [
    "coll.update_one({},{'$set':{'contact':9028299590}})"
   ]
  },
  {
   "cell_type": "code",
   "execution_count": 32,
   "id": "381061c1",
   "metadata": {},
   "outputs": [
    {
     "data": {
      "text/plain": [
       "<pymongo.results.UpdateResult at 0x11c600bb0>"
      ]
     },
     "execution_count": 32,
     "metadata": {},
     "output_type": "execute_result"
    }
   ],
   "source": [
    "coll.update_one({'stud_name':'rohit'},{'$set':{'cgpa':7}})"
   ]
  },
  {
   "cell_type": "markdown",
   "id": "1b5ceec9",
   "metadata": {},
   "source": [
    "### update_many()"
   ]
  },
  {
   "cell_type": "code",
   "execution_count": null,
   "id": "698dcb5d",
   "metadata": {},
   "outputs": [],
   "source": [
    "collection_name.update_many({filter condition},{'$set':{'key':'value'}})\n",
    "without filter condition: update all documents of the collection\n",
    "with filter condition   : update the all matched documents"
   ]
  },
  {
   "cell_type": "code",
   "execution_count": 36,
   "id": "40f053b8",
   "metadata": {},
   "outputs": [
    {
     "data": {
      "text/plain": [
       "<pymongo.results.UpdateResult at 0x10f31bee0>"
      ]
     },
     "execution_count": 36,
     "metadata": {},
     "output_type": "execute_result"
    }
   ],
   "source": [
    "coll.update_many({},{'$set':{'branch':'comp'}})"
   ]
  },
  {
   "cell_type": "code",
   "execution_count": 37,
   "id": "3fa46fed",
   "metadata": {},
   "outputs": [
    {
     "data": {
      "text/plain": [
       "<pymongo.results.UpdateResult at 0x10f0bc6d0>"
      ]
     },
     "execution_count": 37,
     "metadata": {},
     "output_type": "execute_result"
    }
   ],
   "source": [
    "coll.update_many({'stud_name':'rohit'},{'$set':{'loc':'chennai'}})"
   ]
  },
  {
   "cell_type": "markdown",
   "id": "92ec28f4",
   "metadata": {},
   "source": [
    "### delete data"
   ]
  },
  {
   "cell_type": "code",
   "execution_count": null,
   "id": "e5ccc50d",
   "metadata": {},
   "outputs": [],
   "source": [
    "delete_one(): delete the single document\n",
    "delete_many(): delete multiple documents"
   ]
  },
  {
   "cell_type": "markdown",
   "id": "4459ec6f",
   "metadata": {},
   "source": [
    "### 1. delete_one()"
   ]
  },
  {
   "cell_type": "code",
   "execution_count": null,
   "id": "b12789a4",
   "metadata": {},
   "outputs": [],
   "source": [
    "collection_name.delete_one({filter condition})\n",
    "without filter condition: delete the first document of the collection\n",
    "with filter condition:    delete the first matched document"
   ]
  },
  {
   "cell_type": "code",
   "execution_count": 38,
   "id": "cf266f34",
   "metadata": {},
   "outputs": [
    {
     "data": {
      "text/plain": [
       "<pymongo.results.DeleteResult at 0x10dc96d40>"
      ]
     },
     "execution_count": 38,
     "metadata": {},
     "output_type": "execute_result"
    }
   ],
   "source": [
    "coll.delete_one({})"
   ]
  },
  {
   "cell_type": "code",
   "execution_count": 39,
   "id": "385e1907",
   "metadata": {},
   "outputs": [
    {
     "data": {
      "text/plain": [
       "<pymongo.results.DeleteResult at 0x10f3d2a10>"
      ]
     },
     "execution_count": 39,
     "metadata": {},
     "output_type": "execute_result"
    }
   ],
   "source": [
    "coll.delete_one({'loc':'pune'})"
   ]
  },
  {
   "cell_type": "markdown",
   "id": "a63964fb",
   "metadata": {},
   "source": [
    "### 2. delete_many()"
   ]
  },
  {
   "cell_type": "code",
   "execution_count": null,
   "id": "e7068728",
   "metadata": {},
   "outputs": [],
   "source": [
    "coll.delete_many({filter condition})\n",
    "without filter condition: delete all documents of the collection\n",
    "with filter condition   : delete the all matched documents"
   ]
  },
  {
   "cell_type": "code",
   "execution_count": 40,
   "id": "db6dd1df",
   "metadata": {},
   "outputs": [
    {
     "data": {
      "text/plain": [
       "<pymongo.results.DeleteResult at 0x11c600b80>"
      ]
     },
     "execution_count": 40,
     "metadata": {},
     "output_type": "execute_result"
    }
   ],
   "source": [
    "coll.delete_many({'loc':'chennai'})"
   ]
  },
  {
   "cell_type": "code",
   "execution_count": 41,
   "id": "d5b154db",
   "metadata": {},
   "outputs": [
    {
     "data": {
      "text/plain": [
       "<pymongo.results.DeleteResult at 0x11cbfd6c0>"
      ]
     },
     "execution_count": 41,
     "metadata": {},
     "output_type": "execute_result"
    }
   ],
   "source": [
    "coll.delete_many({})"
   ]
  },
  {
   "cell_type": "markdown",
   "id": "75f7dbb8",
   "metadata": {},
   "source": [
    "### delete collection"
   ]
  },
  {
   "cell_type": "code",
   "execution_count": 42,
   "id": "32692f45",
   "metadata": {},
   "outputs": [],
   "source": [
    "coll.drop()"
   ]
  },
  {
   "cell_type": "markdown",
   "id": "6399206e",
   "metadata": {},
   "source": [
    "### drop database"
   ]
  },
  {
   "cell_type": "code",
   "execution_count": 43,
   "id": "69814f5c",
   "metadata": {},
   "outputs": [],
   "source": [
    "client.drop_database('ML')"
   ]
  },
  {
   "cell_type": "markdown",
   "id": "0c14f30c",
   "metadata": {},
   "source": [
    "### import csv file into mongo collection"
   ]
  },
  {
   "cell_type": "code",
   "execution_count": 20,
   "id": "f1bff234",
   "metadata": {},
   "outputs": [
    {
     "data": {
      "text/plain": [
       "<pymongo.results.InsertManyResult at 0x1fceb637940>"
      ]
     },
     "execution_count": 20,
     "metadata": {},
     "output_type": "execute_result"
    }
   ],
   "source": [
    "df=pd.read_csv('emp.csv')\n",
    "data=df.to_dict(orient='records')\n",
    "db=client['emp']\n",
    "db.emp_data.insert_many(data)"
   ]
  },
  {
   "cell_type": "markdown",
   "id": "04487f23",
   "metadata": {},
   "source": [
    "### import json file into mongo collection"
   ]
  },
  {
   "cell_type": "code",
   "execution_count": 47,
   "id": "e638bf12",
   "metadata": {},
   "outputs": [],
   "source": [
    "import json"
   ]
  },
  {
   "cell_type": "code",
   "execution_count": 49,
   "id": "87919c05",
   "metadata": {},
   "outputs": [
    {
     "data": {
      "text/plain": [
       "<pymongo.results.InsertManyResult at 0x11cd8ceb0>"
      ]
     },
     "execution_count": 49,
     "metadata": {},
     "output_type": "execute_result"
    }
   ],
   "source": [
    "f=open('iris.json')\n",
    "data=json.load(f)\n",
    "db.iris.insert_many(data)"
   ]
  },
  {
   "cell_type": "code",
   "execution_count": null,
   "id": "23623599",
   "metadata": {},
   "outputs": [],
   "source": []
  }
 ],
 "metadata": {
  "kernelspec": {
   "display_name": "Python 3 (ipykernel)",
   "language": "python",
   "name": "python3"
  },
  "language_info": {
   "codemirror_mode": {
    "name": "ipython",
    "version": 3
   },
   "file_extension": ".py",
   "mimetype": "text/x-python",
   "name": "python",
   "nbconvert_exporter": "python",
   "pygments_lexer": "ipython3",
   "version": "3.11.3"
  }
 },
 "nbformat": 4,
 "nbformat_minor": 5
}
